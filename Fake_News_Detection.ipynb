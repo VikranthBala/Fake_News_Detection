{
 "cells": [
  {
   "cell_type": "markdown",
   "id": "daa7676b",
   "metadata": {},
   "source": [
    "# Fake News Detection "
   ]
  },
  {
   "cell_type": "markdown",
   "id": "2830dfa9",
   "metadata": {},
   "source": [
    "Installing all the dependent libraries for this project"
   ]
  },
  {
   "cell_type": "code",
   "execution_count": 1,
   "id": "9e5a1b43",
   "metadata": {},
   "outputs": [],
   "source": [
    "import numpy as np\n",
    "import pandas as pd\n",
    "import itertools\n",
    "from sklearn.model_selection import train_test_split\n",
    "from sklearn.feature_extraction.text import TfidfVectorizer\n",
    "from sklearn.linear_model import PassiveAggressiveClassifier\n",
    "from sklearn.metrics import accuracy_score,confusion_matrix"
   ]
  },
  {
   "cell_type": "markdown",
   "id": "14535df5",
   "metadata": {},
   "source": [
    "After installing the tools, we are moving on to the next step, that is impporting the data. The dataset can be downloaded by clicking [here](https://drive.google.com/drive/folders/1_3dXHmZUSEWCMJOiWziJSRzvxBKhHS-c?usp=sharing). \n",
    "\n",
    "After importing the data, we should start by exploring the data. \n",
    "\n",
    "Lets start with finding the shape of the Dataset. The shape gives the shape of the dataframe. \n"
   ]
  },
  {
   "cell_type": "code",
   "execution_count": 2,
   "id": "690ae7d4",
   "metadata": {},
   "outputs": [
    {
     "data": {
      "text/html": [
       "<div>\n",
       "<style scoped>\n",
       "    .dataframe tbody tr th:only-of-type {\n",
       "        vertical-align: middle;\n",
       "    }\n",
       "\n",
       "    .dataframe tbody tr th {\n",
       "        vertical-align: top;\n",
       "    }\n",
       "\n",
       "    .dataframe thead th {\n",
       "        text-align: right;\n",
       "    }\n",
       "</style>\n",
       "<table border=\"1\" class=\"dataframe\">\n",
       "  <thead>\n",
       "    <tr style=\"text-align: right;\">\n",
       "      <th></th>\n",
       "      <th>Unnamed: 0</th>\n",
       "      <th>title</th>\n",
       "      <th>text</th>\n",
       "      <th>label</th>\n",
       "    </tr>\n",
       "  </thead>\n",
       "  <tbody>\n",
       "    <tr>\n",
       "      <th>0</th>\n",
       "      <td>8476</td>\n",
       "      <td>You Can Smell Hillary’s Fear</td>\n",
       "      <td>Daniel Greenfield, a Shillman Journalism Fello...</td>\n",
       "      <td>FAKE</td>\n",
       "    </tr>\n",
       "    <tr>\n",
       "      <th>1</th>\n",
       "      <td>10294</td>\n",
       "      <td>Watch The Exact Moment Paul Ryan Committed Pol...</td>\n",
       "      <td>Google Pinterest Digg Linkedin Reddit Stumbleu...</td>\n",
       "      <td>FAKE</td>\n",
       "    </tr>\n",
       "    <tr>\n",
       "      <th>2</th>\n",
       "      <td>3608</td>\n",
       "      <td>Kerry to go to Paris in gesture of sympathy</td>\n",
       "      <td>U.S. Secretary of State John F. Kerry said Mon...</td>\n",
       "      <td>REAL</td>\n",
       "    </tr>\n",
       "    <tr>\n",
       "      <th>3</th>\n",
       "      <td>10142</td>\n",
       "      <td>Bernie supporters on Twitter erupt in anger ag...</td>\n",
       "      <td>— Kaydee King (@KaydeeKing) November 9, 2016 T...</td>\n",
       "      <td>FAKE</td>\n",
       "    </tr>\n",
       "    <tr>\n",
       "      <th>4</th>\n",
       "      <td>875</td>\n",
       "      <td>The Battle of New York: Why This Primary Matters</td>\n",
       "      <td>It's primary day in New York and front-runners...</td>\n",
       "      <td>REAL</td>\n",
       "    </tr>\n",
       "  </tbody>\n",
       "</table>\n",
       "</div>"
      ],
      "text/plain": [
       "   Unnamed: 0                                              title  \\\n",
       "0        8476                       You Can Smell Hillary’s Fear   \n",
       "1       10294  Watch The Exact Moment Paul Ryan Committed Pol...   \n",
       "2        3608        Kerry to go to Paris in gesture of sympathy   \n",
       "3       10142  Bernie supporters on Twitter erupt in anger ag...   \n",
       "4         875   The Battle of New York: Why This Primary Matters   \n",
       "\n",
       "                                                text label  \n",
       "0  Daniel Greenfield, a Shillman Journalism Fello...  FAKE  \n",
       "1  Google Pinterest Digg Linkedin Reddit Stumbleu...  FAKE  \n",
       "2  U.S. Secretary of State John F. Kerry said Mon...  REAL  \n",
       "3  — Kaydee King (@KaydeeKing) November 9, 2016 T...  FAKE  \n",
       "4  It's primary day in New York and front-runners...  REAL  "
      ]
     },
     "execution_count": 2,
     "metadata": {},
     "output_type": "execute_result"
    }
   ],
   "source": [
    "news_df = pd.read_csv(\"news.csv\")\n",
    "\n",
    "news_df.shape\n",
    "news_df.head()"
   ]
  },
  {
   "cell_type": "markdown",
   "id": "27800838",
   "metadata": {},
   "source": [
    "Lets find out more about the data. Lets look for all the columns in the dataframe and what type of data they contain."
   ]
  },
  {
   "cell_type": "code",
   "execution_count": 7,
   "id": "6f5b0078",
   "metadata": {},
   "outputs": [
    {
     "name": "stdout",
     "output_type": "stream",
     "text": [
      "<class 'pandas.core.frame.DataFrame'>\n",
      "RangeIndex: 6335 entries, 0 to 6334\n",
      "Data columns (total 4 columns):\n",
      " #   Column      Non-Null Count  Dtype \n",
      "---  ------      --------------  ----- \n",
      " 0   Unnamed: 0  6335 non-null   int64 \n",
      " 1   title       6335 non-null   object\n",
      " 2   text        6335 non-null   object\n",
      " 3   label       6335 non-null   object\n",
      "dtypes: int64(1), object(3)\n",
      "memory usage: 198.1+ KB\n"
     ]
    }
   ],
   "source": [
    "news_df.info()"
   ]
  },
  {
   "cell_type": "markdown",
   "id": "6afc23d7",
   "metadata": {},
   "source": [
    "   As we can see, there are 4 columns in which only one column holds data of type int and all the remaining columns hold the data of type object. By running the above function, we will understand that there are no null values. Lets look first row."
   ]
  },
  {
   "cell_type": "code",
   "execution_count": 8,
   "id": "008ca9d3",
   "metadata": {},
   "outputs": [
    {
     "data": {
      "text/plain": [
       "Unnamed: 0                                                 8476\n",
       "title                              You Can Smell Hillary’s Fear\n",
       "text          Daniel Greenfield, a Shillman Journalism Fello...\n",
       "label                                                      FAKE\n",
       "Name: 0, dtype: object"
      ]
     },
     "execution_count": 8,
     "metadata": {},
     "output_type": "execute_result"
    }
   ],
   "source": [
    "news_df.loc[0]"
   ]
  },
  {
   "cell_type": "markdown",
   "id": "37c35bf0",
   "metadata": {},
   "source": [
    "We can see from the above that the \n",
    "* First column- Number\n",
    "* second column- Title of the news story. \n",
    "* Third column-  News story\n",
    "* Label- Whether the story is Fake or Real"
   ]
  },
  {
   "cell_type": "code",
   "execution_count": 9,
   "id": "57c6a404",
   "metadata": {},
   "outputs": [
    {
     "data": {
      "text/plain": [
       "0    FAKE\n",
       "1    FAKE\n",
       "2    REAL\n",
       "3    FAKE\n",
       "4    REAL\n",
       "Name: label, dtype: object"
      ]
     },
     "execution_count": 9,
     "metadata": {},
     "output_type": "execute_result"
    }
   ],
   "source": [
    "labels = news_df.label\n",
    "labels.head()"
   ]
  },
  {
   "cell_type": "markdown",
   "id": "c6c078c3",
   "metadata": {},
   "source": [
    "Lets take the values of the labels for prediction. Lets split the data set into training set and test set using the below function."
   ]
  },
  {
   "cell_type": "code",
   "execution_count": 11,
   "id": "91a2d922",
   "metadata": {},
   "outputs": [],
   "source": [
    "train_x,test_x,train_y,test_y=train_test_split(news_df['text'],labels,test_size=0.2,random_state=5)"
   ]
  },
  {
   "cell_type": "markdown",
   "id": "3da46a0c",
   "metadata": {},
   "source": [
    "We are using the word frequency to predict whether the given news is False or not.  For that we are using the following funcion."
   ]
  },
  {
   "cell_type": "code",
   "execution_count": 12,
   "id": "cab343cc",
   "metadata": {},
   "outputs": [],
   "source": [
    "tfidf_vectorizer = TfidfVectorizer(stop_words='english',max_df=0.7)\n",
    "\n",
    "train_tfidf = tfidf_vectorizer.fit_transform(train_x)\n",
    "test_tfidf = tfidf_vectorizer.transform(test_x)"
   ]
  },
  {
   "cell_type": "code",
   "execution_count": 20,
   "id": "5d4401a4",
   "metadata": {},
   "outputs": [
    {
     "data": {
      "text/plain": [
       "(5068, 61205)"
      ]
     },
     "execution_count": 20,
     "metadata": {},
     "output_type": "execute_result"
    }
   ],
   "source": [
    "train_tfidf.shape"
   ]
  },
  {
   "cell_type": "markdown",
   "id": "93a3e3d9",
   "metadata": {},
   "source": [
    "Finally Lets find the classifier for the our prediction. We are using a passive aggressive classifier for predicting whether the given news is Real or False. After training the model, lets test the model accuracy on the test data.  "
   ]
  },
  {
   "cell_type": "code",
   "execution_count": 13,
   "id": "42395fb2",
   "metadata": {},
   "outputs": [
    {
     "name": "stdout",
     "output_type": "stream",
     "text": [
      "The Accuracy is: 94.55%\n"
     ]
    }
   ],
   "source": [
    "passive_classifier = PassiveAggressiveClassifier(max_iter=50)\n",
    "passive_classifier.fit(train_tfidf,train_y)\n",
    "\n",
    "pred_y = passive_classifier.predict(test_tfidf)\n",
    "score = accuracy_score(test_y,pred_y)\n",
    "print(\"The Accuracy is: {}%\".format(round(score*100,2)))"
   ]
  },
  {
   "cell_type": "markdown",
   "id": "e42d280e",
   "metadata": {},
   "source": [
    "Lets look at the confusion matrix for the output"
   ]
  },
  {
   "cell_type": "code",
   "execution_count": 14,
   "id": "5618777c",
   "metadata": {},
   "outputs": [
    {
     "data": {
      "text/plain": [
       "array([[603,  34],\n",
       "       [ 35, 595]], dtype=int64)"
      ]
     },
     "execution_count": 14,
     "metadata": {},
     "output_type": "execute_result"
    }
   ],
   "source": [
    "confusion_matrix(test_y,pred_y, labels=['FAKE','REAL'])\n"
   ]
  }
 ],
 "metadata": {
  "kernelspec": {
   "display_name": "Python 3 (ipykernel)",
   "language": "python",
   "name": "python3"
  },
  "language_info": {
   "codemirror_mode": {
    "name": "ipython",
    "version": 3
   },
   "file_extension": ".py",
   "mimetype": "text/x-python",
   "name": "python",
   "nbconvert_exporter": "python",
   "pygments_lexer": "ipython3",
   "version": "3.9.7"
  }
 },
 "nbformat": 4,
 "nbformat_minor": 5
}
